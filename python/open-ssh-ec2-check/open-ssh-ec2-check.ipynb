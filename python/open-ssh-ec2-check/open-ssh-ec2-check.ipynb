{
 "cells": [
  {
   "cell_type": "code",
   "execution_count": 22,
   "metadata": {},
   "outputs": [],
   "source": [
    "# import modules\n",
    "import boto3\n",
    "import json"
   ]
  },
  {
   "cell_type": "code",
   "execution_count": 23,
   "metadata": {},
   "outputs": [],
   "source": [
    "# connect to the aws ec2 client \n",
    "client = boto3.client(\"ec2\")"
   ]
  },
  {
   "cell_type": "code",
   "execution_count": 24,
   "metadata": {},
   "outputs": [],
   "source": [
    "# list of all the security group rules in the region and store the response in a variable \n",
    "# called \"describe_security_group_rules_response\"\n",
    "describe_security_group_rules_response = client.describe_security_group_rules()"
   ]
  },
  {
   "cell_type": "code",
   "execution_count": null,
   "metadata": {},
   "outputs": [],
   "source": [
    "describe_security_group_rules_response "
   ]
  },
  {
   "cell_type": "code",
   "execution_count": 26,
   "metadata": {},
   "outputs": [],
   "source": [
    "# get the value of the dictionary key \"SecurityGroupRules\", from the response \n",
    "# and store it in a variable called \"get_security_group_rules\"\n",
    "get_security_group_rules = describe_security_group_rules_response.get(\"SecurityGroupRules\")"
   ]
  },
  {
   "cell_type": "code",
   "execution_count": null,
   "metadata": {},
   "outputs": [],
   "source": [
    "get_security_group_rules"
   ]
  },
  {
   "cell_type": "code",
   "execution_count": 28,
   "metadata": {},
   "outputs": [],
   "source": [
    "# create an empty list and store it in a variable called \"get_sg_id_with_ssh_rule_open_to_world\"\n",
    "get_sg_id_with_ssh_rule_open_to_world = []\n",
    "\n",
    "# use for_loop to loop through the list \"get_security_group_rules\" and store the value of the \n",
    "# dictionary key \"GroupId\", in a variable called \"security_group_id\"\n",
    "for item in get_security_group_rules:\n",
    "    security_group_id = item.get(\"GroupId\")\n",
    "\n",
    "    # while looping through items in the \"get_security_group_rules\" list, if we find an item\n",
    "    # that has FromPort = 22 and CidrIpv4 = 0.0.0.0/0, we will store the value of the dictionary \n",
    "    # key \"GroupId\" for that item in the list \"get_sg_id_with_ssh_rule_open_to_world\" \n",
    "    if item.get(\"FromPort\") == 22 and item.get(\"CidrIpv4\") == \"0.0.0.0/0\":\n",
    "        get_sg_id_with_ssh_rule_open_to_world.append(security_group_id)"
   ]
  },
  {
   "cell_type": "code",
   "execution_count": null,
   "metadata": {},
   "outputs": [],
   "source": [
    "get_sg_id_with_ssh_rule_open_to_world"
   ]
  },
  {
   "cell_type": "code",
   "execution_count": 30,
   "metadata": {},
   "outputs": [],
   "source": [
    "# list all ec2 instances and store the response in a variable called \"describe_instances_response\"\n",
    "describe_instances_response = client.describe_instances()"
   ]
  },
  {
   "cell_type": "code",
   "execution_count": null,
   "metadata": {},
   "outputs": [],
   "source": [
    "describe_instances_response"
   ]
  },
  {
   "cell_type": "code",
   "execution_count": 32,
   "metadata": {},
   "outputs": [],
   "source": [
    "# get the value of the dictionary key \"Reservations\", from the response and store \n",
    "# it in a variable called \"get_reservations\"\n",
    "get_reservations = describe_instances_response.get(\"Reservations\")"
   ]
  },
  {
   "cell_type": "code",
   "execution_count": null,
   "metadata": {},
   "outputs": [],
   "source": [
    "get_reservations"
   ]
  },
  {
   "cell_type": "code",
   "execution_count": 34,
   "metadata": {},
   "outputs": [],
   "source": [
    "# create an empty list and store it in a variable called \"get_instances\"\n",
    "get_instances = []\n",
    "\n",
    "# use for_loop to loop through the list \"get_reservations\" and store the value \n",
    "# of the dictionary key \"Instances\", in a variable called \"instances\"\n",
    "for item in get_reservations:\n",
    "    instances = item.get(\"Instances\")\n",
    "\n",
    "    # while looping through the items in the \"get_reservations\" list, add the value \n",
    "    # of every \"instances\" found to the list \"get_instances\"\n",
    "    get_instances.append(instances)"
   ]
  },
  {
   "cell_type": "code",
   "execution_count": null,
   "metadata": {},
   "outputs": [],
   "source": [
    "get_instances"
   ]
  },
  {
   "cell_type": "code",
   "execution_count": 36,
   "metadata": {},
   "outputs": [],
   "source": [
    "# get the value of instances that are running or stopped and exclude any instance that has been terminated\n",
    "# create an empty list and store it in a variable called \"get_only_running_and_stopped_instances\"\n",
    "get_only_running_and_stopped_instances = []\n",
    "\n",
    "# use for_loop to loop through items in the first list \"get_instences\" \n",
    "for item in get_instances:\n",
    "    # once in the first list, use another for_loop to loop through items in the second list \"item\"\n",
    "    for item2 in item:\n",
    "        # if value of the dictionary key \"State\", \"Name\", is \"terminated\" skip that item, else \n",
    "        # add the item to the list \"get_only_running_and_stopped_instances\"\n",
    "        if item2.get(\"State\").get(\"Name\") == \"terminated\":\n",
    "            pass\n",
    "        else:\n",
    "            get_only_running_and_stopped_instances.append(item2)  \n"
   ]
  },
  {
   "cell_type": "code",
   "execution_count": null,
   "metadata": {},
   "outputs": [],
   "source": [
    "get_only_running_and_stopped_instances"
   ]
  },
  {
   "cell_type": "code",
   "execution_count": 38,
   "metadata": {},
   "outputs": [],
   "source": [
    "# get the instance id of each ec2 instance and their associated security groups\n",
    "# create an empty list and store it in a variable called \"instance_info\"\n",
    "instance_info = []\n",
    "\n",
    "# loop through items in the list \"get_only_running_and_stopped_instances\"\n",
    "# get the value of the dictionary key \"InstanceId\" and store is in a variable \n",
    "# called \"instance_id\"\n",
    "for item in get_only_running_and_stopped_instances:\n",
    "    instance_id = item.get(\"InstanceId\")\n",
    "\n",
    "    # while is the for_loop, create an empty list and store it in a variable \n",
    "    # called \"security_groups\"\n",
    "    security_groups = []\n",
    "    \n",
    "    # use another for_loop to loop through the value of dictionary key \"SecurityGroups\",\n",
    "    # get the value for dictionary key \"GroupId\" and store it in a variable called \"sg_group_id\"\n",
    "    for sg_group in item.get(\"SecurityGroups\"):\n",
    "        sg_group_id = sg_group.get(\"GroupId\")\n",
    "\n",
    "        # add all \"sg_group_id\" to the list \"security_groups\"\n",
    "        security_groups.append(sg_group_id)\n",
    "\n",
    "    # add the \"instance_id\" and \"sg_group_id\" of each items to the list \"instance_info\"\n",
    "    instance_info.append([instance_id, security_groups])"
   ]
  },
  {
   "cell_type": "code",
   "execution_count": null,
   "metadata": {},
   "outputs": [],
   "source": [
    "instance_info"
   ]
  },
  {
   "cell_type": "code",
   "execution_count": 40,
   "metadata": {},
   "outputs": [],
   "source": [
    "# next we will check if any ec2 instance has a security group with ssh rule open to the world\n",
    "# and we will add any instance that has security group with ssh rule open to the world to a new \n",
    "# list called \"ec2_with_ssh_rule_open_to_world\"\n",
    "ec2_with_ssh_rule_open_to_world = []\n",
    "\n",
    "for item in instance_info:\n",
    "    instance_id = item[0]\n",
    "    sg_group_id = item[1]\n",
    "\n",
    "    for items in sg_group_id:\n",
    "        if items in get_sg_id_with_ssh_rule_open_to_world:\n",
    "            ec2_with_ssh_rule_open_to_world.append(instance_id)"
   ]
  },
  {
   "cell_type": "code",
   "execution_count": null,
   "metadata": {},
   "outputs": [],
   "source": [
    "ec2_with_ssh_rule_open_to_world"
   ]
  },
  {
   "cell_type": "code",
   "execution_count": null,
   "metadata": {},
   "outputs": [],
   "source": [
    "try:\n",
    "    terminate_instances_response = client.terminate_instances(InstanceIds=ec2_with_ssh_rule_open_to_world)\n",
    "except:\n",
    "    print(\"No instance has a security group rule with ssh open to the world\")"
   ]
  }
 ],
 "metadata": {
  "interpreter": {
   "hash": "07f0297aadd591779d56b7382d9fcef0edb66101f229cf4e3c8a2f186df1d37f"
  },
  "kernelspec": {
   "display_name": "Python 3.10.7 64-bit",
   "language": "python",
   "name": "python3"
  },
  "language_info": {
   "codemirror_mode": {
    "name": "ipython",
    "version": 3
   },
   "file_extension": ".py",
   "mimetype": "text/x-python",
   "name": "python",
   "nbconvert_exporter": "python",
   "pygments_lexer": "ipython3",
   "version": "3.11.3"
  },
  "orig_nbformat": 4
 },
 "nbformat": 4,
 "nbformat_minor": 2
}
